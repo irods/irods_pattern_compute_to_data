{
 "cells": [
  {
   "cell_type": "code",
   "execution_count": null,
   "metadata": {},
   "outputs": [],
   "source": [
    "import numpy as np\n",
    "import scipy.ndimage\n",
    "import math, os\n",
    "for key in 'INPUT_DIR','data_set','OUTPUT_DIR','DEGREES_ROTATION', 'PLOTTING': \n",
    "    globals()[key] = os.environ.get(key,'')\n",
    "PLOTTING = bool(PLOTTING)\n",
    "DEGREES_ROTATION = float(DEGREES_ROTATION)"
   ]
  },
  {
   "cell_type": "code",
   "execution_count": null,
   "metadata": {},
   "outputs": [],
   "source": [
    "%matplotlib inline\n",
    "from matplotlib import pyplot as plt\n",
    "image_file = os.path.join(INPUT_DIR,data_set)\n",
    "if os.path.isfile(image_file):\n",
    "    shp = np.loadtxt (image_file,delimiter=',')\n",
    "else:\n",
    "    shp = np.zeros((32,32))\n",
    "    sx, sy = shp.shape\n",
    "    shp[:,:]= [\n",
    "        [ int(math.sqrt( (x-16)**2 + (y-16)**2 ) < 12) for x in range(0,sx)] for y in range(0,sy)\n",
    "    ]\n",
    "shp = scipy.ndimage.rotate(shp,DEGREES_ROTATION)\n",
    "plt.imshow(shp)"
   ]
  },
  {
   "cell_type": "code",
   "execution_count": null,
   "metadata": {},
   "outputs": [],
   "source": [
    "im_vert = scipy.ndimage.sobel (shp,axis=0,mode='constant')\n",
    "im_horz = scipy.ndimage.sobel (shp,axis=1,mode='constant')"
   ]
  },
  {
   "cell_type": "code",
   "execution_count": null,
   "metadata": {},
   "outputs": [],
   "source": [
    "im=np.hypot(im_horz,im_vert)\n",
    "if PLOTTING:\n",
    "    plt.subplot(131)\n",
    "    plt.imshow(im_vert)\n",
    "    plt.subplot(132)\n",
    "    plt.imshow(im_horz)\n",
    "    plt.subplot(133)\n",
    "    plt.imshow(im)\n",
    "    "
   ]
  },
  {
   "cell_type": "code",
   "execution_count": null,
   "metadata": {},
   "outputs": [],
   "source": [
    "if os.path.isdir(OUTPUT_DIR):\n",
    "    image_file = os.path.join(OUTPUT_DIR,'edge_detected_'+data_set)\n",
    "    np.savetxt(image_file,im,delimiter=',',fmt='%.1f')"
   ]
  }
 ],
 "metadata": {
  "kernelspec": {
   "display_name": "Python 3",
   "language": "python",
   "name": "python3"
  },
  "language_info": {
   "codemirror_mode": {
    "name": "ipython",
    "version": 3
   },
   "file_extension": ".py",
   "mimetype": "text/x-python",
   "name": "python",
   "nbconvert_exporter": "python",
   "pygments_lexer": "ipython3",
   "version": "3.7.3"
  }
 },
 "nbformat": 4,
 "nbformat_minor": 2
}
